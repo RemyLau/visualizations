{
 "cells": [
  {
   "cell_type": "markdown",
   "id": "b897001b",
   "metadata": {},
   "source": [
    "# Word2vec using Gensim"
   ]
  },
  {
   "cell_type": "code",
   "execution_count": null,
   "id": "85c2fbaa",
   "metadata": {},
   "outputs": [],
   "source": [
    "from gensim.models import Word2Vec"
   ]
  },
  {
   "cell_type": "code",
   "execution_count": null,
   "id": "00aa5f6a",
   "metadata": {},
   "outputs": [],
   "source": [
    "sentence = [['the', 'quick', 'brown', 'fox', 'jumps', 'over', 'the', 'lazy', 'dog']]"
   ]
  },
  {
   "cell_type": "code",
   "execution_count": null,
   "id": "cdf7e811",
   "metadata": {},
   "outputs": [],
   "source": [
    "w2v = Word2Vec(sentence, vector_size=2, window=2, min_count=0)"
   ]
  },
  {
   "cell_type": "code",
   "execution_count": null,
   "id": "2f2963fd",
   "metadata": {},
   "outputs": [],
   "source": [
    "word_vectors = w2v.wv.vectors\n",
    "word_vectors"
   ]
  },
  {
   "cell_type": "code",
   "execution_count": null,
   "id": "40e189aa",
   "metadata": {},
   "outputs": [],
   "source": [
    "import matplotlib.pyplot as plt\n",
    "import seaborn as sns\n",
    "sns.set()\n",
    "\n",
    "plt.figure(figsize=(7, 7))\n",
    "plt.scatter(*word_vectors.T, s=4)\n",
    "for i, (x, y) in enumerate(w2v.wv.vectors):\n",
    "    plt.text(x, y, w2v.wv.index_to_key[i], fontsize=16)\n",
    "plt.tight_layout()\n",
    "plt.show()"
   ]
  },
  {
   "cell_type": "markdown",
   "id": "7f1023e4",
   "metadata": {},
   "source": [
    "# Embedding using PecanPy"
   ]
  },
  {
   "cell_type": "code",
   "execution_count": null,
   "id": "eb8a2b15",
   "metadata": {},
   "outputs": [],
   "source": [
    "# !pip install pecanpy"
   ]
  },
  {
   "cell_type": "code",
   "execution_count": null,
   "id": "0dcb1545",
   "metadata": {},
   "outputs": [],
   "source": [
    "from pecanpy import graph"
   ]
  },
  {
   "cell_type": "code",
   "execution_count": null,
   "id": "5e2625a6",
   "metadata": {},
   "outputs": [],
   "source": [
    "edgelist_file = \"../../PecanPy_benchmarks/data/networks/PPI.edg\""
   ]
  },
  {
   "cell_type": "code",
   "execution_count": null,
   "id": "6b8c68cc",
   "metadata": {},
   "outputs": [],
   "source": [
    "!head $edgelist_file"
   ]
  },
  {
   "cell_type": "code",
   "execution_count": null,
   "id": "4c3f8522",
   "metadata": {},
   "outputs": [],
   "source": [
    "g = graph.AdjlstGraph()\n",
    "g.read(edgelist_file, weighted=False, directed=False)\n",
    "print(f\"{g.num_nodes=:,}\\n{g.num_edges=:,}\")"
   ]
  },
  {
   "cell_type": "code",
   "execution_count": null,
   "id": "87181e89",
   "metadata": {},
   "outputs": [],
   "source": [
    "!pecanpy --input $edgelist_file --output test.emd --dimensions 16 --q 0.01 --mode SparseOTF --workers 4 --verbose"
   ]
  },
  {
   "cell_type": "code",
   "execution_count": null,
   "id": "3fc79c08",
   "metadata": {},
   "outputs": [],
   "source": [
    "import numpy as np\n",
    "emd = np.loadtxt(\"test.emd\", skiprows=1)[:,1:]\n",
    "print(f\"{emd.shape=}\\n{emd=}\")"
   ]
  },
  {
   "cell_type": "code",
   "execution_count": null,
   "id": "1c4e7c14",
   "metadata": {},
   "outputs": [],
   "source": [
    "!rm test.emd"
   ]
  }
 ],
 "metadata": {
  "kernelspec": {
   "display_name": "Python 3 (ipykernel)",
   "language": "python",
   "name": "python3"
  },
  "language_info": {
   "codemirror_mode": {
    "name": "ipython",
    "version": 3
   },
   "file_extension": ".py",
   "mimetype": "text/x-python",
   "name": "python",
   "nbconvert_exporter": "python",
   "pygments_lexer": "ipython3",
   "version": "3.8.0"
  }
 },
 "nbformat": 4,
 "nbformat_minor": 5
}
